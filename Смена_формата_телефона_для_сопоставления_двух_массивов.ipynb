{
  "nbformat": 4,
  "nbformat_minor": 0,
  "metadata": {
    "colab": {
      "name": "Смена формата телефона для сопоставления двух массивов.ipynb",
      "provenance": [],
      "collapsed_sections": [],
      "authorship_tag": "ABX9TyMWoZM712LYEr1CiHCFU3cO"
    },
    "kernelspec": {
      "name": "python3",
      "display_name": "Python 3"
    }
  },
  "cells": [
    {
      "cell_type": "code",
      "metadata": {
        "id": "rM_W0G0uFCs8"
      },
      "source": [
        "import re\n",
        "import pandas as pd\n",
        "import numpy as np"
      ],
      "execution_count": 81,
      "outputs": []
    },
    {
      "cell_type": "markdown",
      "metadata": {
        "id": "tfAaZA-zFP9m"
      },
      "source": [
        "## Как изменить формат телефона для сопоставления двух массивов."
      ]
    },
    {
      "cell_type": "markdown",
      "metadata": {
        "id": "od0H_VtNFoD8"
      },
      "source": [
        "У нас есть задание от банка, для которого нужно соеденить две таблицы по номеру телефона, причем в одной из таблиц - номер может быть в разных форматах вида : +79261234567, +7 (926)1234568, 8-926-123-45-67 / \n",
        "Во второй таблице номер фиксирован вида : 9261234567"
      ]
    },
    {
      "cell_type": "markdown",
      "metadata": {
        "id": "z2uMJVdqGRSP"
      },
      "source": [
        "Чтобы показать что наше решение работает создадим 2 таблицы"
      ]
    },
    {
      "cell_type": "code",
      "metadata": {
        "id": "-lV6GFDGGb5l",
        "outputId": "28824873-6dc5-460a-dee8-76b4535dbfa9",
        "colab": {
          "base_uri": "https://localhost:8080/",
          "height": 195
        }
      },
      "source": [
        "# таблица выданных кредитов \n",
        "credit_list = pd.DataFrame(np.random.randint(0,20,size=(10, 3)), columns=('number','A','B'))\n",
        "for i in range(len(credit_list)):\n",
        "  credit_list.loc[i,'number'] = 9261234560 + i\n",
        "credit_list.head()"
      ],
      "execution_count": 82,
      "outputs": [
        {
          "output_type": "execute_result",
          "data": {
            "text/html": [
              "<div>\n",
              "<style scoped>\n",
              "    .dataframe tbody tr th:only-of-type {\n",
              "        vertical-align: middle;\n",
              "    }\n",
              "\n",
              "    .dataframe tbody tr th {\n",
              "        vertical-align: top;\n",
              "    }\n",
              "\n",
              "    .dataframe thead th {\n",
              "        text-align: right;\n",
              "    }\n",
              "</style>\n",
              "<table border=\"1\" class=\"dataframe\">\n",
              "  <thead>\n",
              "    <tr style=\"text-align: right;\">\n",
              "      <th></th>\n",
              "      <th>number</th>\n",
              "      <th>A</th>\n",
              "      <th>B</th>\n",
              "    </tr>\n",
              "  </thead>\n",
              "  <tbody>\n",
              "    <tr>\n",
              "      <th>0</th>\n",
              "      <td>9261234560</td>\n",
              "      <td>18</td>\n",
              "      <td>2</td>\n",
              "    </tr>\n",
              "    <tr>\n",
              "      <th>1</th>\n",
              "      <td>9261234561</td>\n",
              "      <td>5</td>\n",
              "      <td>9</td>\n",
              "    </tr>\n",
              "    <tr>\n",
              "      <th>2</th>\n",
              "      <td>9261234562</td>\n",
              "      <td>3</td>\n",
              "      <td>14</td>\n",
              "    </tr>\n",
              "    <tr>\n",
              "      <th>3</th>\n",
              "      <td>9261234563</td>\n",
              "      <td>10</td>\n",
              "      <td>18</td>\n",
              "    </tr>\n",
              "    <tr>\n",
              "      <th>4</th>\n",
              "      <td>9261234564</td>\n",
              "      <td>17</td>\n",
              "      <td>17</td>\n",
              "    </tr>\n",
              "  </tbody>\n",
              "</table>\n",
              "</div>"
            ],
            "text/plain": [
              "       number   A   B\n",
              "0  9261234560  18   2\n",
              "1  9261234561   5   9\n",
              "2  9261234562   3  14\n",
              "3  9261234563  10  18\n",
              "4  9261234564  17  17"
            ]
          },
          "metadata": {
            "tags": []
          },
          "execution_count": 82
        }
      ]
    },
    {
      "cell_type": "code",
      "metadata": {
        "id": "9RIc3A-cKDbA",
        "outputId": "d8a02848-ec83-4c30-c76d-b6c8af694e9a",
        "colab": {
          "base_uri": "https://localhost:8080/",
          "height": 166
        }
      },
      "source": [
        "#таблица заявок\n",
        "bad_phone = pd.DataFrame(['+79261234567', '+7 (926)1234568', '8-926-123-45-61', '9261234565'], columns=['bad_number'])\n",
        "bad_phone['C'] = np.random.randint(100,200)\n",
        "bad_phone"
      ],
      "execution_count": 83,
      "outputs": [
        {
          "output_type": "execute_result",
          "data": {
            "text/html": [
              "<div>\n",
              "<style scoped>\n",
              "    .dataframe tbody tr th:only-of-type {\n",
              "        vertical-align: middle;\n",
              "    }\n",
              "\n",
              "    .dataframe tbody tr th {\n",
              "        vertical-align: top;\n",
              "    }\n",
              "\n",
              "    .dataframe thead th {\n",
              "        text-align: right;\n",
              "    }\n",
              "</style>\n",
              "<table border=\"1\" class=\"dataframe\">\n",
              "  <thead>\n",
              "    <tr style=\"text-align: right;\">\n",
              "      <th></th>\n",
              "      <th>bad_number</th>\n",
              "      <th>C</th>\n",
              "    </tr>\n",
              "  </thead>\n",
              "  <tbody>\n",
              "    <tr>\n",
              "      <th>0</th>\n",
              "      <td>+79261234567</td>\n",
              "      <td>190</td>\n",
              "    </tr>\n",
              "    <tr>\n",
              "      <th>1</th>\n",
              "      <td>+7 (926)1234568</td>\n",
              "      <td>190</td>\n",
              "    </tr>\n",
              "    <tr>\n",
              "      <th>2</th>\n",
              "      <td>8-926-123-45-61</td>\n",
              "      <td>190</td>\n",
              "    </tr>\n",
              "    <tr>\n",
              "      <th>3</th>\n",
              "      <td>9261234565</td>\n",
              "      <td>190</td>\n",
              "    </tr>\n",
              "  </tbody>\n",
              "</table>\n",
              "</div>"
            ],
            "text/plain": [
              "        bad_number    C\n",
              "0     +79261234567  190\n",
              "1  +7 (926)1234568  190\n",
              "2  8-926-123-45-61  190\n",
              "3       9261234565  190"
            ]
          },
          "metadata": {
            "tags": []
          },
          "execution_count": 83
        }
      ]
    },
    {
      "cell_type": "markdown",
      "metadata": {
        "id": "fUhu7PNRY0kx"
      },
      "source": [
        "Для того чтобы убрать лишние символы воспользуемся регулярными выражениями"
      ]
    },
    {
      "cell_type": "code",
      "metadata": {
        "id": "ioYMUCm8ZAxH",
        "outputId": "53a3597a-cb46-451e-ea53-315713ea7488",
        "colab": {
          "base_uri": "https://localhost:8080/",
          "height": 166
        }
      },
      "source": [
        "def good_number(ee):\n",
        "  result  = re.sub(r'\\D*','', ee)\n",
        "  return result[len(result)-10:11] # оставлем последние 10 цифр из номера\n",
        "bad_phone['number'] = bad_phone['bad_number'].apply(good_number).astype(int)\n",
        "bad_phone"
      ],
      "execution_count": 84,
      "outputs": [
        {
          "output_type": "execute_result",
          "data": {
            "text/html": [
              "<div>\n",
              "<style scoped>\n",
              "    .dataframe tbody tr th:only-of-type {\n",
              "        vertical-align: middle;\n",
              "    }\n",
              "\n",
              "    .dataframe tbody tr th {\n",
              "        vertical-align: top;\n",
              "    }\n",
              "\n",
              "    .dataframe thead th {\n",
              "        text-align: right;\n",
              "    }\n",
              "</style>\n",
              "<table border=\"1\" class=\"dataframe\">\n",
              "  <thead>\n",
              "    <tr style=\"text-align: right;\">\n",
              "      <th></th>\n",
              "      <th>bad_number</th>\n",
              "      <th>C</th>\n",
              "      <th>number</th>\n",
              "    </tr>\n",
              "  </thead>\n",
              "  <tbody>\n",
              "    <tr>\n",
              "      <th>0</th>\n",
              "      <td>+79261234567</td>\n",
              "      <td>190</td>\n",
              "      <td>9261234567</td>\n",
              "    </tr>\n",
              "    <tr>\n",
              "      <th>1</th>\n",
              "      <td>+7 (926)1234568</td>\n",
              "      <td>190</td>\n",
              "      <td>9261234568</td>\n",
              "    </tr>\n",
              "    <tr>\n",
              "      <th>2</th>\n",
              "      <td>8-926-123-45-61</td>\n",
              "      <td>190</td>\n",
              "      <td>9261234561</td>\n",
              "    </tr>\n",
              "    <tr>\n",
              "      <th>3</th>\n",
              "      <td>9261234565</td>\n",
              "      <td>190</td>\n",
              "      <td>9261234565</td>\n",
              "    </tr>\n",
              "  </tbody>\n",
              "</table>\n",
              "</div>"
            ],
            "text/plain": [
              "        bad_number    C      number\n",
              "0     +79261234567  190  9261234567\n",
              "1  +7 (926)1234568  190  9261234568\n",
              "2  8-926-123-45-61  190  9261234561\n",
              "3       9261234565  190  9261234565"
            ]
          },
          "metadata": {
            "tags": []
          },
          "execution_count": 84
        }
      ]
    },
    {
      "cell_type": "markdown",
      "metadata": {
        "id": "A_QZc9yhe-bL"
      },
      "source": [
        "Склеим таблицы по номеру телефона"
      ]
    },
    {
      "cell_type": "code",
      "metadata": {
        "id": "-ozrSHkSe9-k",
        "outputId": "5f5a8820-85fb-425b-b11a-adfc5d2dfa40",
        "colab": {
          "base_uri": "https://localhost:8080/",
          "height": 166
        }
      },
      "source": [
        "last_table = bad_phone[['number','C']].merge(credit_list, how = 'left', on = 'number')\n",
        "last_table"
      ],
      "execution_count": 85,
      "outputs": [
        {
          "output_type": "execute_result",
          "data": {
            "text/html": [
              "<div>\n",
              "<style scoped>\n",
              "    .dataframe tbody tr th:only-of-type {\n",
              "        vertical-align: middle;\n",
              "    }\n",
              "\n",
              "    .dataframe tbody tr th {\n",
              "        vertical-align: top;\n",
              "    }\n",
              "\n",
              "    .dataframe thead th {\n",
              "        text-align: right;\n",
              "    }\n",
              "</style>\n",
              "<table border=\"1\" class=\"dataframe\">\n",
              "  <thead>\n",
              "    <tr style=\"text-align: right;\">\n",
              "      <th></th>\n",
              "      <th>number</th>\n",
              "      <th>C</th>\n",
              "      <th>A</th>\n",
              "      <th>B</th>\n",
              "    </tr>\n",
              "  </thead>\n",
              "  <tbody>\n",
              "    <tr>\n",
              "      <th>0</th>\n",
              "      <td>9261234567</td>\n",
              "      <td>190</td>\n",
              "      <td>15</td>\n",
              "      <td>19</td>\n",
              "    </tr>\n",
              "    <tr>\n",
              "      <th>1</th>\n",
              "      <td>9261234568</td>\n",
              "      <td>190</td>\n",
              "      <td>9</td>\n",
              "      <td>14</td>\n",
              "    </tr>\n",
              "    <tr>\n",
              "      <th>2</th>\n",
              "      <td>9261234561</td>\n",
              "      <td>190</td>\n",
              "      <td>5</td>\n",
              "      <td>9</td>\n",
              "    </tr>\n",
              "    <tr>\n",
              "      <th>3</th>\n",
              "      <td>9261234565</td>\n",
              "      <td>190</td>\n",
              "      <td>11</td>\n",
              "      <td>7</td>\n",
              "    </tr>\n",
              "  </tbody>\n",
              "</table>\n",
              "</div>"
            ],
            "text/plain": [
              "       number    C   A   B\n",
              "0  9261234567  190  15  19\n",
              "1  9261234568  190   9  14\n",
              "2  9261234561  190   5   9\n",
              "3  9261234565  190  11   7"
            ]
          },
          "metadata": {
            "tags": []
          },
          "execution_count": 85
        }
      ]
    },
    {
      "cell_type": "markdown",
      "metadata": {
        "id": "eeoLoPejiv5J"
      },
      "source": [
        "##Для автоматизации можно использовать недельный скрипт\n",
        "который будет по входным параметрам дат( начало и конец недели), брать данные из двух таблиц, приводить номера телефонов к правильному виду и мержить их"
      ]
    },
    {
      "cell_type": "code",
      "metadata": {
        "id": "3C6hFyaZiuKr"
      },
      "source": [
        "#!/usr/bin/python\n",
        "# -*- coding: utf-8 -*-\n",
        "import sys\n",
        "import getopt\n",
        "import re\n",
        "import pandas as pd\n",
        "import numpy as np\n",
        "from datetime import datetime\n",
        "from sqlalchemy import create_engine\n",
        "\n",
        "if __name__ == \"__main__\":\n",
        "\n",
        "    #Задаем входные параметры\n",
        "    unixOptions = \"sdt:edt\"\n",
        "    gnuOptions = [\"start_dt=\", \"end_dt=\"]\n",
        "    \n",
        "    full = sys.argv\n",
        "    argumentList = full[1:]  # список аргументов, в нашем случае даты\n",
        "    \n",
        "    try: # Проверяем входные параметры на соответствие формату\n",
        "        arguments, values = getopt.getopt(argumentList, unixOptions, gnuOptions)\n",
        "    except # Прерываем выполнение, если входные параметры некорректны\n",
        "        getopt.error as err:\n",
        "        print (str(err))\n",
        "        sys.exit(2)\n",
        "    \n",
        "    start_dt = ''\n",
        "    end_dt = ''\n",
        "    for currentArgument, currentValue in arguments:\n",
        "        if currentArgument in (\"-sdt\", \"--start_dt\"):\n",
        "            start_dt = currentValue\n",
        "        elif currentArgument in (\"-edt\", \"--end_dt\"):\n",
        "            end_dt = currentValue\n",
        "    \n",
        "    # выполняем подключение к базе данных банка\n",
        "    db_config = {'user': 'my_user',         \n",
        "                 'pwd': 'my_user_password', \n",
        "                 'host': 'localhost',       \n",
        "                 'port': 1234,              \n",
        "                 'db': 'bank_rosselhoz'}             \n",
        "    \n",
        "    connect = 'postgresql://{}:{}@{}:{}/{}'.format(db_config['user'],\n",
        "                                     db_config['pwd'],\n",
        "                                 db_config['host'],\n",
        "                                 db_config['port'],\n",
        "                                 db_config['db'])\n",
        "    \n",
        "    engine = create_engine(connect)\n",
        "    \n",
        "    #Теперь выберем из таблицы в заявками на кредит (bad_phone) только те строки,\n",
        "    #которые соответствуют этой неделе в столбце data -  между start_dt и end_dt\n",
        "    query = ''' SELECT *\n",
        "            FROM bad_phone\n",
        "            WHERE data::TIMESTAMP BETWEEN '{}'::TIMESTAMP AND '{}'::TIMESTAMP\n",
        "        '''.format(start_dt, end_dt)\n",
        "    \n",
        "    bad_phone = pd.io.sql.read_sql(query, con = engine, index_col = 'data')\n",
        "    bad_phone['data'] = pd.to_datetime(data_raw['data']) #переводим в формат даты\n",
        "    \n",
        "    #функция удаления лишний информации из номера\n",
        "    def good_number(ee):\n",
        "      result  = re.sub(r'\\D*','', ee)\n",
        "      return result[len(result)-10:11] # оставлем последние 10 цифр из номера\n",
        "\n",
        "    bad_phone['number'] = bad_phone['bad_number'].apply(good_number).astype(int)\n",
        "\n",
        "    # выбираем таблицу с выдаными кредитами\n",
        "    query = '''SELECT  *\n",
        "          FROM credit_list\n",
        "                  '''\n",
        "\n",
        "    credit_list = pd.io.sql.read_sql(query, con = engine)\n",
        "    last_table = bad_phone[['number']].merge(credit_list, how = 'left', on = 'number')\n",
        "    \n",
        "    # записываем в таблицу last_table - ее длинна будет нам давать сколько всего поступило \n",
        "    # заявок за неделю, не нулевые значения в данных - покажут сколько по этим заявкам\n",
        "    # было выдано кредитов, на какую сумму и так далее.\n",
        "    last_table.to_sql(name = 'last_table', con = engine, if_exists = 'append', index = False))"
      ],
      "execution_count": null,
      "outputs": []
    }
  ]
}